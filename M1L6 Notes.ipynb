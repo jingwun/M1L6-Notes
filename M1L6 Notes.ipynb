{
 "cells": [
  {
   "cell_type": "markdown",
   "id": "sacred-candy",
   "metadata": {},
   "source": [
    "<br><font color = darkblue size=6><strong>CQF M1L6 Notes: Martingales</strong></font>\n",
    "1:09:57"
   ]
  },
  {
   "cell_type": "markdown",
   "id": "chief-cheat",
   "metadata": {},
   "source": [
    "# Martingale"
   ]
  },
  {
   "cell_type": "markdown",
   "id": "democratic-affect",
   "metadata": {},
   "source": [
    "Here we focus on \"Continuous time\", not discrete time"
   ]
  },
  {
   "cell_type": "markdown",
   "id": "elder-forest",
   "metadata": {},
   "source": [
    "## Definition"
   ]
  },
  {
   "cell_type": "markdown",
   "id": "romance-trunk",
   "metadata": {},
   "source": [
    "Martingale is a driftless stochastic procss (or constant mean process), this is the nice thing about Martingales because it enables us to focus on the diffusion part. \n",
    "\n",
    "If something is Martingale, then the expected value is going to be 0. "
   ]
  },
  {
   "cell_type": "markdown",
   "id": "english-interstate",
   "metadata": {},
   "source": [
    "## Three Encounters with Martingale"
   ]
  },
  {
   "cell_type": "markdown",
   "id": "accepted-enhancement",
   "metadata": {},
   "source": [
    "### Martingales as a class of stochastic process"
   ]
  },
  {
   "cell_type": "markdown",
   "id": "entertaining-surfing",
   "metadata": {},
   "source": [
    "See Section 2 below"
   ]
  },
  {
   "cell_type": "markdown",
   "id": "parallel-hungarian",
   "metadata": {},
   "source": [
    "### Exponential martingales (module 3)"
   ]
  },
  {
   "cell_type": "markdown",
   "id": "clean-virgin",
   "metadata": {},
   "source": [
    "Can be used to price derivatives"
   ]
  },
  {
   "cell_type": "markdown",
   "id": "greatest-advocacy",
   "metadata": {},
   "source": [
    "### Equivalent martingale measures (module 3)"
   ]
  },
  {
   "cell_type": "markdown",
   "id": "composed-cutting",
   "metadata": {},
   "source": [
    "Binomial model: from real world measure and move to risk-neutral pricing, in this case the underlying stock price doesn't really matter. \n",
    "\n",
    "That is: for $\\frac{dS_i}{S_i}=\\mu_idt+\\delta_idW_i$, the $\\mu_i$ is gong to diminish and replaced with a constant growth rate, across all stock prices."
   ]
  },
  {
   "cell_type": "markdown",
   "id": "cognitive-sperm",
   "metadata": {},
   "source": [
    "# Martingales Introduction"
   ]
  },
  {
   "cell_type": "markdown",
   "id": "grateful-kitty",
   "metadata": {},
   "source": [
    "## Conditional Expectations"
   ]
  },
  {
   "cell_type": "markdown",
   "id": "herbal-generation",
   "metadata": {},
   "source": [
    "### Components"
   ]
  },
  {
   "cell_type": "markdown",
   "id": "satisfied-floor",
   "metadata": {},
   "source": [
    "Triple (or 3-tuple): ($\\Omega, F, P$) are always given:\n",
    "\n",
    "$\\Omega$: sample space (i.e. the set of all possible outcomes)\n",
    "\n",
    "$F_t$: filtration (i.e. a record of information). We will record more and more information based on the outcome that follows us. It can also be called $\\sigma$ field, or $\\sigma$ algebra. For example, we talked about conditional expectation $E[S_6|S_5]$, we can record $S_5$ so we call $S_5$ and the information earlier filtration.Therefore, we can use that information to predict where we will be in the future. We don't need to know all the info in filtration, just $S_5$ is enough. Filtration contains all information up until time $t_5$. $F_0$ is the empty set.\n",
    "\n",
    "$P$: probability measure, which is a generalized CDF for assigning probabilities to outcomes. For example, $P(\\omega_1)$, $P(\\omega_2)$. And Random variables are $X(\\omega_1)$, $X(\\omega_2)$.. In this case, we are looking at the probability of an interval, $x \\rightarrow x+dx$, so we need theory of integration, based on measure theory."
   ]
  },
  {
   "cell_type": "markdown",
   "id": "concerned-pattern",
   "metadata": {},
   "source": [
    "### Adapted (Measurable) Process"
   ]
  },
  {
   "cell_type": "markdown",
   "id": "ultimate-flavor",
   "metadata": {},
   "source": [
    "* It's adapted to a filtration. \n",
    "\n",
    "* A stochastic process $S_t$ is said to be adapted to the Filtration $F_t$ (or measurable with respect to $F_t$ , or $F_t$ -adapted) if the value of S_t at time t is known given the information set $F_t$.\n",
    "* We are interested in calculating $E_t[S_T|F_t]$ (We are interested in calculating the expected value of $S_T$ given $F_t$)\n",
    "* Given that we don't need to know all of $F_t$, sometimes we write the above as $E_t[S_T|S_t]$\n",
    "* We can also write it as $Y=E[X|F] = E_t(X_{t+1}|F_t)$"
   ]
  },
  {
   "cell_type": "markdown",
   "id": "grateful-psychology",
   "metadata": {},
   "source": [
    "### Properties of Conditional Expectations"
   ]
  },
  {
   "cell_type": "markdown",
   "id": "spatial-digit",
   "metadata": {},
   "source": [
    "If $X, Y$ are intergrable random variables and $\\alpha, \\beta$ are constants then:\n",
    "1. Linearity: this is using the linear property of an integral\n",
    "$E[\\alpha X+\\beta Y|F] = \\alpha E[X|F] + \\beta E[Y|F]$\n",
    "\n",
    "* Here, integrable means the expected value is bounded, i.e. $E[X]<\\infty$, where $E[h(x)] = \\int_{-\\infty}^{\\infty}h(x)p(x)dx$\n",
    "\n",
    "2. Tower Property (i.e. iterated expectations)\n",
    "if $F \\subset G$\n",
    "\n",
    "* $E[E[X|G]|F]=E[X|F]$\n",
    "* the smallest filtration always wins\n",
    "\n",
    "3. A special case of Tower property:\n",
    "* Because the smallest filtration wins, no information wins\n",
    "* No information = unconditional expectation\n",
    "* i.e. $E[E[X|F]]=E[X]$\n",
    "\n",
    "4. Taking out what is known:\n",
    "if X is F-measurable, then the value of X is known once we know F. Therefore $E_t[X_t|F_t]=X$\n",
    "\n",
    "\n",
    "5. Taking out what is know (2):\n",
    "* if $X$ is $F$-measurable but not $Y$, then $E[XY|F]=XE[Y|F]$.\n",
    "* for example, if you are trying to figure out Apple price, but somebody sneaked in Google price, which is useless for your analysis.\n",
    "* We don't know $Y$. $Y$ is a random variable.\n",
    "* X behaves like a scalar\n",
    "\n",
    "6. Independence: \n",
    "* if $X$ is independent from $F$, then knowing $F$ is useless to predict the value of $X$.\n",
    "* i.e. $E[X|F] = E[X]$\n",
    "\n",
    "7. Positivity:\n",
    "* if $X>=0$, then $E[X|F]>=0$\n",
    "\n",
    "8. Jensen's Inequality:\n",
    "let $f$ be a convex function (e.g. $|X|$, $X^2$, $e^x$), then $f(E[X|F])<=E[f(X)|F]$"
   ]
  },
  {
   "cell_type": "markdown",
   "id": "anonymous-pharmacy",
   "metadata": {},
   "source": [
    "## Discrete Time Martingales"
   ]
  },
  {
   "cell_type": "markdown",
   "id": "colored-strategy",
   "metadata": {},
   "source": [
    "We will start with discrete time and later we can focus on continuous time.\n",
    "\n",
    "A discrte time stochastic process {$M_t:t=0,...,T$} such that $M_t$ is $F_t$-measurable for $T=${$0,...,T$} is a martingale if $E[M_t] < \\infty$ (i.e. integrability) and $E_t[M_{t+1}|F_t]=M_t$ (i.e. a Martingale is a driftless process), or can also be written as $E_t[M_{t+1}|M_t]=M_t$\n",
    "\n",
    "\n",
    "\n",
    "Key takeaway: \n",
    "* We go from 0 to time t, and at time t, we decided to calculate the value for time t+1.\n",
    "* the mean doesn't change, i.e. $E[M_{t+1}] = E[M_t]$:\n",
    "    * $E_t[M_{t+1}|F_t]=M_t \\rightarrow E[E_t[M_{t+1}|F_t]]=E[M_t]$, due to Tower Property, the equation can be reduced to $E[M_{t+1}]=E[M_t]$"
   ]
  },
  {
   "cell_type": "markdown",
   "id": "certified-vector",
   "metadata": {},
   "source": [
    "## Continuous Time Martingales"
   ]
  },
  {
   "cell_type": "markdown",
   "id": "together-couple",
   "metadata": {},
   "source": [
    "A continuous time stochastic process {$M_t:t \\epsilon R^+$} such that $M_t$ is $F_t$-measurable for $t \\epsilon R^+$ is a martingale if $E[M_t] < \\infty$ (i.e. integrability) and $E_s[M_t|F_s]=M_s$ (i.e. a Martingale is a driftless process), where $0<=s<=t$, or can also be written as $E_s[M_t|M_s]=M_s$. $M_s$ is our starting point (now, where as t is future). We have information up to time s."
   ]
  },
  {
   "cell_type": "markdown",
   "id": "collaborative-hanging",
   "metadata": {},
   "source": [
    "## Brownian motions are martingales"
   ]
  },
  {
   "cell_type": "markdown",
   "id": "outside-cartridge",
   "metadata": {},
   "source": [
    "i.e. $W_t$ is a martinagle\n",
    "\n",
    "Discrete version: $E[S_{n+1}|S_n] = S_n$\n",
    "\n",
    "Continuous version:\n",
    "$E_s[W_t|F_s] = E_s[W_t|W_s]$, where $s<t$\n",
    "\n",
    "$=E_s[W_t-W_s+W_s|W_s]$\n",
    "\n",
    "$=E_s[W_t-W_s|W_s] + E_s[W_s|W_s]$, we know W_t ~ N(0, |t-s|), so:\n",
    "\n",
    "$=E_s[W_t-W_s|W_s] + W_s$"
   ]
  },
  {
   "cell_type": "markdown",
   "id": "interesting-quantity",
   "metadata": {},
   "source": [
    "### Lévy's Martingale Characterisation"
   ]
  },
  {
   "cell_type": "markdown",
   "id": "limited-imperial",
   "metadata": {},
   "source": [
    "Let $X_t$, $t > 0$ be a stochastic process and let $F_t$ be the filtration generated by it. $X_t$ is a Brownian motion if the following conditions are satisfied:\n",
    "\n",
    "1. $X_0$ = 0\n",
    "2. the sample path $t \\rightarrow X_t$ are continuous\n",
    "3. $X_t$ is a martingale with respect to the filtration $F_t$\n",
    "4. Quadratic Variation property: $|X_t|^2 -t$ is a martingale with respect to the filtration $F_t$"
   ]
  },
  {
   "cell_type": "markdown",
   "id": "rural-upper",
   "metadata": {},
   "source": [
    "#### Proof of Quadratic Variation Property"
   ]
  },
  {
   "cell_type": "markdown",
   "id": "binary-resort",
   "metadata": {},
   "source": [
    "Consider $F(t,X_t)=X^2_T$\n",
    "\n",
    "By Ito I:\n",
    "\n",
    "$X^2_T = X^2_0 + \\frac{1}{2}\\int_{0}^{T}2dt + \\int_{0}^{T}2X_tdX_t$\n",
    "\n",
    "$= 0+ \\int_{0}^{T}dt + 2\\int_{0}^{T}X_tdX_t$\n",
    "\n",
    "Taking the expectation:\n",
    "\n",
    "$E[X^2_T] = E[\\int_{0}^{T}dt] + 2E[\\int_{0}^{T}X_tdX_t]$\n",
    "\n",
    "Because Ito is a martingale, $E[\\int_{0}^{T}X_tdX_t] = 0$.\n",
    "\n",
    "We get $E[X^2(T)]= T$   ---Quadratic variation property\n",
    "\n",
    "\n",
    "**Now, prove $E[\\int_{0}^{T}X_tdX_t] = 0$:**\n",
    "\n",
    "We know that  $X_{i+1} - X_i$ is $dX$ and is a martingale, i.e. $E[X_{i+1}-X_i]=0$ (because $dX$ ~ $N(0,dt)$)\n",
    "\n",
    "\n",
    "Therefore, $E[\\int_{0}^{T}X_tdX_t] = E[\\sum_{i=0}^{N-1}f(t_i,X_i)(X_{i+1}-X_i)] $\n",
    "$= \\sum_{i=0}^{N-1}f(t_i,X_i)E[(X_{i+1}-X_i)] = 0$ \n",
    "\n"
   ]
  },
  {
   "cell_type": "markdown",
   "id": "hazardous-mixer",
   "metadata": {},
   "source": [
    "### Classical definition of a Brownian motion"
   ]
  },
  {
   "cell_type": "markdown",
   "id": "shared-radar",
   "metadata": {},
   "source": [
    "1. $X_0$ = 0\n",
    "2. the sample path $t \\rightarrow X_t$ are continuous\n",
    "3. independent increments: for $t_1 < t_2 < t_3 < t_4$ the increments $X_{t_4}-X_{t_3}, X_{t_2}-X_{t_1}$ are independent\n",
    "4. normally distributed increments: $X_t-X_s$ ~ $N(0,|t-s|)$  (note here we are using the left hand integral, i.e. non-antcipatory.)"
   ]
  },
  {
   "cell_type": "markdown",
   "id": "rocky-corruption",
   "metadata": {},
   "source": [
    "## Ito integrals and martingales"
   ]
  },
  {
   "cell_type": "markdown",
   "id": "mounted-pendant",
   "metadata": {},
   "source": [
    "Ito integrals are martingales\n",
    "\n",
    "Consider the stochastic process $y(t) = X^2(t)$\n",
    "\n",
    "Ito I tells us: $dF = \\frac{1}{2}\\frac{d^2F}{dX^2}dt + \\frac{dF}{dX}dX$\n",
    "\n",
    "Therefore $dy = 2XdX + dt$\n",
    "\n",
    "Integral on both sides:\n",
    "\n",
    "$y = \\int_{0}^{T}2X(t)dX(t) + \\int_{0}^{T}dt$\n",
    "\n",
    "$X^2(T) = \\int_{0}^{T}2X(t)dX(t) + T$\n",
    "\n",
    "Because the quadratic variation property of Brownian motions implies $E[X^2(T)]=T$, $E[\\int_{0}^{T}2X(t)dX(t)] = 0$\n",
    "\n",
    "That is because, following Fubini's Theorem, \n",
    "$E[\\int_{0}^{T}f(x_t)dt]=\\int_{0}^{T}E[f{X_t}]dt $\n",
    "\n",
    "Therefore, the Ito integral $\\int_{0}^{T}2X(t)dX(t)$ is a martingale. In fact, all Ito integrals $\\int_{0}^{T} g(t,X_t)dX_t$ are Martingales. "
   ]
  },
  {
   "cell_type": "markdown",
   "id": "indie-testimony",
   "metadata": {},
   "source": [
    "### Martingale Representation Theorem\n",
    "\n",
    "The converse also holds: we can represent any martingale as an Ito integral - \n",
    "i.e.:\n",
    "\n",
    "If $M_t$ is a martingale, the there exists a function $g(t,X_t)$ satisfying the technical condition such that \n",
    "$M_T = M_0 + \\int_{0}^{T}g(t,X_t)dX_t$. We have to find that $g(t,X_t)$."
   ]
  },
  {
   "cell_type": "markdown",
   "id": "accepted-march",
   "metadata": {},
   "source": [
    "### Reimann integral"
   ]
  },
  {
   "cell_type": "markdown",
   "id": "experienced-retro",
   "metadata": {},
   "source": [
    "There are a nmber of ways to approximate $\\int_{0}^{T}f(t)dt$, and they will all be equal to each other as $N \\rightarrow \\infty$.\n",
    "\n",
    "1. left hand rectangle rule:\n",
    "\n",
    "$\\int_{0}^{T}f(t)dt=\\lim_{N\\rightarrow\\infty}\\sum_{i=0}^{N-1}f(t_i)(t_{i+1}-t_i)$\n",
    "\n",
    "\n",
    "\n",
    "2. right hand rectangle rule:\n",
    "\n",
    "$\\int_{0}^{T}f(t)dt=\\lim_{N\\rightarrow\\infty}\\sum_{i=0}^{N-1}f(t_{i+1})(t_{i+1}-t_i)$\n",
    "\n",
    "\n",
    "\n",
    "3. trapezium rule:\n",
    "\n",
    "$\\int_{0}^{T}f(t)dt=\\lim_{N\\rightarrow\\infty}\\sum_{i=0}^{N-1}\\frac{1}{2}(f(t_i)+f(t_{i+1}))(t_{i+1}-t_i)$\n",
    "\n",
    "\n",
    "4. midpoint rule:\n",
    "\n",
    "$\\int_{0}^{T}f(t)dt=\\lim_{N\\rightarrow\\infty}\\sum_{i=0}^{N-1}f(\\frac{1}{2}(t_i+t_{i+1}))(t_{i+1}-t_i)$\n",
    "\n",
    "\n",
    "Now, consider the stochastic integral of the form:\n",
    "\n",
    "$\\int_{0}^{T}f(t,X)dX=\\int_{0}^{T}f(t,X(t))dX(t)$, where $X(t)$ is a Brownian motion.\n",
    "\n",
    "\n",
    "Following Reimann integral, we can approximate the above integral as:\n",
    "\n",
    "(1) $\\lim_{N\\rightarrow\\infty}\\sum_{i=0}^{N-1}f(t_i,X_i)(X_{i+1}-X_i)$ --- (left hand rectangle rule)\n",
    "\n",
    "or (2) $\\lim_{N\\rightarrow\\infty}\\sum_{i=0}^{N-1}f(t_{i+1},X_{i+1})(X_{i+1}-X_i)$  --- (right hand rectangle rule)\n",
    "\n",
    "or (3) $\\lim_{N\\rightarrow\\infty}\\sum_{i=0}^{N-1}f(t_{i+\\frac{1}{2}},X_{i+\\frac{1}{2}})(X_{i+1}-X_i)$  --- (midpoint rule)\n",
    "\n",
    "However, in he case of a stochastic variable $dX(t)$, (1) $\\neq$ (2) $\\neq$ (3)\n",
    "\n",
    "(1) = $\\int_{0}^{T}f(t,W_t)dW_t$, which results in Ito Integral. It is non-anticipatory because: given that we are at time $t_i$, we know $X_i=X(t_i)$, and therefore we know $f(t_i,X_i)$. The only uncertainly is $X_{i+1}$, but as $N \\rightarrow \\infty$, $X_{i+1}-X_i = dX \\rightarrow 0$.\n",
    "\n",
    "(2) is anticipatory, given that at time $t_i$ we know $X_i$ but are uncertain about the future value of $X_{i+1}$: Thus we are uncertain about both the value of $f(t_{i+1}, X_{i+1})$ and the value of $(X_{i+1} - X_i)$\n",
    "\n",
    "Example:\n",
    "\n",
    "From Ito I: we know $3\\int_{0}^{T}X^2dX=X(T)^3-X(0)^3-3\\int_{0}{T}X(t)dt$\n",
    "\n",
    "This can also be derived from Reimann Integral:\n",
    "\n",
    "$3\\int_{0}^{T}X^2dX= \\lim_{N \\rightarrow \\infty}3\\sum_{i=0}^{N-1}X^2_i(X_{i+1}-X_i)$\n",
    "\n",
    "Using $3b^2(a-b)=a^3-b^3-3b(a-b)^2-(a-b)^3$, we can assign $a = X_{i+1}, b =X_i$, hence:\n",
    "\n",
    "$\\lim_{N \\rightarrow \\infty}\\sum_{i=0}^{N-1}3X^2_i(X_{i+1}-X_i)$\n",
    "$=\\sum_{i=0}^{N-1}X^3_{i+1} - \\sum_{i=0}^{N=1}X^3_i - \\sum_{i=0}^{N=1}3X_i(X_{i+1}-X_i)^2 - \\sum_{i=0}^{N-1}(X_{i+1}-X_i)^3$\n",
    "\n",
    "$=X^3_N - X^3_0 - \\int_{0}^{T}3X(t)dt -O(dt^{3/2}) = X(T)^3 - X(0)^3 - \\int_{0}^{T}3X(t)dt$\n",
    "\n",
    "\n",
    "\n"
   ]
  },
  {
   "cell_type": "markdown",
   "id": "ultimate-estonia",
   "metadata": {},
   "source": [
    "### Properties of Ito Integrals"
   ]
  },
  {
   "cell_type": "markdown",
   "id": "brutal-juvenile",
   "metadata": {},
   "source": [
    "1. Linearity:\n",
    "\n",
    "$\\int_{0}^{T}(\\alpha f(X_t)+\\beta g(X_t))dX_t=\\alpha\\int_{0}^{T}f(X_t)dX_t+\\beta\\int_{0}^{T}g(X_t)dX_t$\n",
    "\n",
    "2. Ito Isometry:\n",
    "\n",
    "$E[(\\int_{0}^{T}f_tdX_t)^2]=E[\\int_{0}^{T}f^2_tdt]$\n",
    "\n",
    "This is used in calculating the variance of a stochastic process.\n"
   ]
  },
  {
   "cell_type": "markdown",
   "id": "forced-sustainability",
   "metadata": {},
   "source": [
    "## Proving that a Continuous Time Stochastic Process is a Martingale"
   ]
  },
  {
   "cell_type": "markdown",
   "id": "south-addiction",
   "metadata": {},
   "source": [
    "Consider a stochastic process $Y(t)$ with $dY(t)=f(Y_t,t)dt + g(Y_t,t)dX(t)$, where $Y(0)=Y_0$\n",
    "\n",
    "If Y(t) is a martingale if and only if it satisfies the martingale condition $E[Y_t|F_s]=Y_s, 0<=s<=t.\n",
    "\n",
    "Proof:\n",
    "\n",
    "$dY(t)=f(Y_t,t)dt + g(Y_t,t)dX(t)$\n",
    "\n",
    "Integrating both sides: \n",
    "\n",
    "$Y(t) = Y(s) + \\int_{s}^{t}f(Y_u,u)du+\\int_{s}^{t}g(Y_u, u)dX(u)$\n",
    "\n",
    "Taking the expectation conditional on the filtration at time s, we get:\n",
    "\n",
    "$E[Y_t|F_s] = E[Y(s) + \\int_{s}^{t}f(Y_u,u)du+\\int_{s}^{t}g(Y_u, u)dX(u)|F_s]$\n",
    "\n",
    "$=Y(s) + E[\\int_{s}^{t}f(Y_u,u)du|F] + 0$  (the last item is 0 because an Ito integral is a martingale)\n",
    "\n",
    "So, $Y(t)$ is a martingale iff $E[\\int_{s}^{t}f(Y_u,u)du|F]=0$. This is why we say that martingales are \"driftless processes\".\n"
   ]
  },
  {
   "cell_type": "markdown",
   "id": "known-milan",
   "metadata": {},
   "source": [
    "Consider a Brownian Motion with drift: $\\mu t+X_t$. Is this a martigale?\n",
    "\n",
    "Answer: no\n",
    "\n",
    "Solution:\n",
    "\n",
    "$E[\\mu t+X_t|F_t]=E[\\mu t+X_t-X_s+X_s|F_t]=E[X_t-X_s]+E[\\mu t+X_s|F_t]$\n",
    "\n",
    "The first item ~ $N(0,|t-s|)$  \n",
    "The second item $\\mu t+X_s \\neq \\mu s+X_s, so not a martingale \n"
   ]
  },
  {
   "cell_type": "markdown",
   "id": "liberal-neighbor",
   "metadata": {},
   "source": [
    "## Ito rule for products"
   ]
  },
  {
   "cell_type": "markdown",
   "id": "familiar-rolling",
   "metadata": {},
   "source": [
    "Let $X_t = a(X_t,t)dt+b(t,X_t)dW^{(1)}_t$, and $Y_t=c(Y_t,t)dt+d(t,X_t)dW^{(2)}_t$ \n",
    "\n",
    "Solve $F=X_tY_t$\n",
    "\n",
    "Using T.S.E:\n",
    "\n",
    "$dF=\\frac{\\partial F}{\\partial X}dX+\\frac{\\partial F}{\\partial Y}dY+\\frac{1}{2}\\frac{\\partial^2F}{\\partial X^2}dX^2$\n",
    "$+\\frac{1}{2}\\frac{\\partial^2F}{\\partial Y^2}dY^2 +\\frac{\\partial F}{\\partial X\\partial Y}dXdY$\n",
    "\n",
    "$= YdX + XdY + 0 + 0 + dXdY$\n",
    "\n",
    "So:\n",
    "\n",
    "$d(XY) = YdX + XdY + dXdY$  --- (Ito rule for products). $dXdY$ cannot be ignored because it is $O(dt)$.\n",
    "\n",
    "Note, this is different from the everyday differentiation: $(fg)'=f'g+fg'$"
   ]
  },
  {
   "cell_type": "markdown",
   "id": "portable-liquid",
   "metadata": {},
   "source": [
    "# Exponential Martingales"
   ]
  },
  {
   "cell_type": "markdown",
   "id": "restricted-cleveland",
   "metadata": {},
   "source": [
    "Consider the stochastic process Y (t) satisfying the SDE $dY (t) = f(t)dt + g(t)dX(t)$, $Y(0) = Y_0$ (initial condition), where $f(t)$ and $g(t)$ are two time-dependent functions and $X(t)$ is a standard Brownian motion. How do we choose f(t) so that $Z(t) = e^{Y(t)}$ is a martingale (i.e. driftless process)?"
   ]
  },
  {
   "cell_type": "markdown",
   "id": "powerful-reward",
   "metadata": {},
   "source": [
    "$dZ$ is the SDE for Z\n",
    "\n",
    "$\\frac{dZ}{dY}=e^Y = \\frac{d^2Z}{dY^2}$\n",
    "\n",
    "\n",
    "$dY^2 = f^2dt^2+g^2dX^2 + 2fgdtdX$\n",
    "$= O(dt^2) + g^2dt + O(dt^{3/2}) = g^2dt$\n",
    "\n",
    "\n",
    "$dZ = de^Y = \\frac{dZ}{dY}dY + \\frac{1}{2}\\frac{d^2Z}{dY^2}dY^2$\n",
    "\n",
    "$=\\frac{dZ}{dY}(fdt + gdX) + \\frac{1}{2}\\frac{d^2Z}{dY^2}g^2dt$\n",
    "\n",
    "$=e^Y(f+\\frac{1}{2}g^2)dt + e^YgdX$\n",
    "\n",
    "Z is a martingale if and only if it is a driftless process. Therefore $f+\\frac{1}{2}g^2 = 0 \\rightarrow f=-\\frac{1}{2}g^2$\n",
    "\n",
    "Now we have $dZ = gZdX$ This exponential martingale forms the basis of option pricing \n",
    "\n",
    "so, $dY = fdt + gdX = -\\frac{1}{2}g^2dt + gdX$\n",
    "\n",
    "$Y(T) = Y_0 -\\frac{1}{2}\\int_{0}^{T}g^2dt+\\int_{0}^{T}gdX$\n",
    "\n",
    "\n",
    "$Z = e^Y = exp(Y_0 -\\frac{1}{2}\\int_{0}^{T}g^2dt+\\int_{0}^{T}gdX)$ \n",
    "\n",
    "$ = Z_0exp(-\\frac{1}{2}\\int_{0}^{T}g^2dt+\\int_{0}^{T}gdX)$"
   ]
  },
  {
   "cell_type": "markdown",
   "id": "postal-services",
   "metadata": {},
   "source": [
    "# Changing Probability Measure"
   ]
  },
  {
   "cell_type": "markdown",
   "id": "protective-slovakia",
   "metadata": {},
   "source": [
    "Change from real world probability P and (1-P) to risk-neutral world probability q and (1-q)."
   ]
  },
  {
   "cell_type": "markdown",
   "id": "regulated-namibia",
   "metadata": {},
   "source": [
    "## Equivalent Measure"
   ]
  },
  {
   "cell_type": "markdown",
   "id": "committed-thanks",
   "metadata": {},
   "source": [
    "If two measures P and Q share the same sample space and if P(A) = 0 implies Q(A) = 0 for all subset A, we say that Q is absolutely continuous with respect to P and denote this by Q << P.\n",
    "\n",
    "* all impossible events under P remain impossible under Q\n",
    "* The probability mass of the possible events will be distributed differently under P and Q. That is, the probability of an event in P will have a different value in Q.\n",
    "\n",
    "If Q << P and P << Q then the two measures are said to be equivalent, denoted by P ~ Q.\n"
   ]
  },
  {
   "cell_type": "code",
   "execution_count": null,
   "id": "industrial-surrey",
   "metadata": {},
   "outputs": [],
   "source": []
  }
 ],
 "metadata": {
  "hide_input": false,
  "kernelspec": {
   "display_name": "Python 3",
   "language": "python",
   "name": "python3"
  },
  "language_info": {
   "codemirror_mode": {
    "name": "ipython",
    "version": 3
   },
   "file_extension": ".py",
   "mimetype": "text/x-python",
   "name": "python",
   "nbconvert_exporter": "python",
   "pygments_lexer": "ipython3",
   "version": "3.8.5"
  },
  "toc": {
   "base_numbering": 1,
   "nav_menu": {},
   "number_sections": true,
   "sideBar": true,
   "skip_h1_title": false,
   "title_cell": "Table of Contents",
   "title_sidebar": "Contents",
   "toc_cell": false,
   "toc_position": {
    "height": "calc(100% - 180px)",
    "left": "10px",
    "top": "150px",
    "width": "253px"
   },
   "toc_section_display": true,
   "toc_window_display": true
  }
 },
 "nbformat": 4,
 "nbformat_minor": 5
}
